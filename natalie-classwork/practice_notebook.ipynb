{
 "cells": [
  {
   "cell_type": "markdown",
   "id": "d790cdd5",
   "metadata": {},
   "source": [
    "# The Zen of Python\n",
    "\n",
    "* Beautiful is better than ugly.\n",
    "* Explicit is better than implicit.\n",
    "* Simple is better than complex.\n",
    "* Complex is better than complicated.\n",
    "* Flat is better than nested.\n",
    "* Sparse is better than dense.\n",
    "* Readability counts.\n",
    "* Special cases aren't special enough to break the rules.\n",
    "* Although practicality beats purity.\n",
    "* Errors should never pass silently.\n",
    "* Unless explicitly silenced.\n",
    "* In the face of ambiguity, refuse the temptation to guess.\n",
    "* There should be one-- and preferably only one --obvious way to do it.\n",
    "* Although that way may not be obvious at first unless you're Dutch.\n",
    "* Now is better than never.\n",
    "* Although never is often better than *right* now.\n",
    "* If the implementation is hard to explain, it's a bad idea.\n",
    "* If the implementation is easy to explain, it may be a good idea.\n",
    "* Namespaces are one honking great idea -- let's do more of those!\n",
    "\n",
    "(from https://peps.python.org/pep-0020/)"
   ]
  },
  {
   "cell_type": "markdown",
   "id": "8d72aa78",
   "metadata": {},
   "source": []
  },
  {
   "cell_type": "markdown",
   "id": "3f34a020",
   "metadata": {},
   "source": [
    "# Quick Recap: Data Structures"
   ]
  },
  {
   "cell_type": "code",
   "execution_count": 2,
   "id": "3b8f5309",
   "metadata": {},
   "outputs": [],
   "source": [
    "# Lists, tuples, dictionaries\n",
    "my_list = [1, 2, 3, 4, \"a\"] # mutable\n",
    "my_tuple = (1, 2, 3, 4, \"a\") # immutable\n",
    "my_dict = {'name': 'Natalie', 'age': 22} #mutable"
   ]
  },
  {
   "cell_type": "code",
   "execution_count": 3,
   "id": "fa0dd441-1742-410d-8008-854d22485a35",
   "metadata": {},
   "outputs": [
    {
     "data": {
      "text/plain": [
       "[999, 2, 3, 4, 'a', [2, 3, 4]]"
      ]
     },
     "execution_count": 3,
     "metadata": {},
     "output_type": "execute_result"
    }
   ],
   "source": [
    "my_list.append([2,3,4])\n",
    "my_list[0] = 999\n",
    "my_list"
   ]
  },
  {
   "cell_type": "code",
   "execution_count": 4,
   "id": "78e1fb0d-6dd3-495f-ade7-f353ee71aa07",
   "metadata": {},
   "outputs": [
    {
     "ename": "TypeError",
     "evalue": "'tuple' object does not support item assignment",
     "output_type": "error",
     "traceback": [
      "\u001b[0;31m---------------------------------------------------------------------------\u001b[0m",
      "\u001b[0;31mTypeError\u001b[0m                                 Traceback (most recent call last)",
      "Cell \u001b[0;32mIn[4], line 1\u001b[0m\n\u001b[0;32m----> 1\u001b[0m my_tuple[\u001b[38;5;241m0\u001b[39m] \u001b[38;5;241m=\u001b[39m \u001b[38;5;241m999\u001b[39m\n",
      "\u001b[0;31mTypeError\u001b[0m: 'tuple' object does not support item assignment"
     ]
    }
   ],
   "source": [
    "my_tuple[0] = 999"
   ]
  },
  {
   "cell_type": "code",
   "execution_count": 5,
   "id": "261e0201-a60b-409e-8a14-a3a8b59e2ec7",
   "metadata": {},
   "outputs": [
    {
     "data": {
      "text/plain": [
       "'Natalie'"
      ]
     },
     "execution_count": 5,
     "metadata": {},
     "output_type": "execute_result"
    }
   ],
   "source": [
    "my_dict['eye_color'] = 'brown'\n",
    "my_dict['name']"
   ]
  },
  {
   "cell_type": "markdown",
   "id": "16148e08",
   "metadata": {},
   "source": [
    "# Quick Recap: Looping"
   ]
  },
  {
   "cell_type": "code",
   "execution_count": 6,
   "id": "59aa3d14",
   "metadata": {},
   "outputs": [
    {
     "name": "stdout",
     "output_type": "stream",
     "text": [
      "999\n",
      "2\n",
      "3\n",
      "4\n",
      "a\n",
      "[2, 3, 4]\n"
     ]
    }
   ],
   "source": [
    "# The Pythonic way (enumerate, zip)\n",
    "for i in range(len(my_list)):\n",
    "    print(my_list[i])"
   ]
  },
  {
   "cell_type": "code",
   "execution_count": 7,
   "id": "f186488c-8624-474b-b2b7-c9bc1156429c",
   "metadata": {},
   "outputs": [
    {
     "name": "stdout",
     "output_type": "stream",
     "text": [
      "Key: name, Value: Natalie\n",
      "Key: age, Value: 22\n",
      "Key: eye_color, Value: brown\n"
     ]
    }
   ],
   "source": [
    "for key, value in my_dict.items():\n",
    "    print(f\"Key: {key}, Value: {value}\")"
   ]
  },
  {
   "cell_type": "code",
   "execution_count": 8,
   "id": "a62982a7-b48b-4075-94b7-3332c4c311da",
   "metadata": {},
   "outputs": [
    {
     "name": "stdout",
     "output_type": "stream",
     "text": [
      "a 1\n",
      "b 2\n",
      "c 3\n",
      "0 a 1\n",
      "1 b 2\n",
      "2 c 3\n"
     ]
    }
   ],
   "source": [
    "mylist1 = ['a','b','c']\n",
    "mylist2 = [1, 2, 3]\n",
    "\n",
    "for el1, el2 in zip(mylist1, mylist2):\n",
    "    print(el1, el2)\n",
    "\n",
    "for idx, (el1, el2) in enumerate(zip(mylist1, mylist2)):\n",
    "    print(idx, el1, el2)"
   ]
  },
  {
   "cell_type": "markdown",
   "id": "f0844188",
   "metadata": {},
   "source": [
    "## Quick Recap: Classes and Functions"
   ]
  },
  {
   "cell_type": "code",
   "execution_count": 9,
   "id": "77c59398-6059-4444-aa31-646f4a9fe5c5",
   "metadata": {},
   "outputs": [],
   "source": [
    "import copy"
   ]
  },
  {
   "cell_type": "code",
   "execution_count": 10,
   "id": "8bdd36d1",
   "metadata": {},
   "outputs": [],
   "source": [
    "def add_data(data, name, age):\n",
    "    # Some validators\n",
    "    assert isinstance(age, (int, float)) and age > 0\n",
    "    assert isinstance(name, str)\n",
    "\n",
    "    # Add new data to list\n",
    "    data.append({'name': name, 'age': age})\n",
    "    return data\n",
    "\n",
    "# Initialize a list of dictionaries\n",
    "people = [{'name': 'John', 'age': 20}, {'name': 'Jane', 'age': 22}]"
   ]
  },
  {
   "cell_type": "code",
   "execution_count": 11,
   "id": "47da20fb",
   "metadata": {},
   "outputs": [],
   "source": [
    "#new_people = add_data(people, 'Doe', 45) -> will overwrite people\n",
    "new_people = add_data(copy.deepcopy(people), 'Doe', 45)"
   ]
  },
  {
   "cell_type": "code",
   "execution_count": 12,
   "id": "93d70d1c",
   "metadata": {},
   "outputs": [
    {
     "name": "stdout",
     "output_type": "stream",
     "text": [
      "3\n",
      "[{'name': 'John', 'age': 20}, {'name': 'Jane', 'age': 22}, {'name': 'Doe', 'age': 45}]\n",
      "0x7f1838faa440\n"
     ]
    }
   ],
   "source": [
    "print(len(new_people))\n",
    "print(new_people)\n",
    "print(hex(id(new_people)))"
   ]
  },
  {
   "cell_type": "code",
   "execution_count": 13,
   "id": "34e1ea1b-7900-442c-8d87-47883253f7cc",
   "metadata": {},
   "outputs": [
    {
     "name": "stdout",
     "output_type": "stream",
     "text": [
      "2\n",
      "[{'name': 'John', 'age': 20}, {'name': 'Jane', 'age': 22}]\n",
      "0x7f1838dc50c0\n"
     ]
    }
   ],
   "source": [
    "print(len(people))\n",
    "print(people)\n",
    "print(hex(id(people)))"
   ]
  },
  {
   "cell_type": "markdown",
   "id": "81c128cf",
   "metadata": {},
   "source": [
    "# Exercise: Infectious Disease Modeling"
   ]
  },
  {
   "cell_type": "markdown",
   "id": "ede4ca6f",
   "metadata": {},
   "source": [
    "<p>In this exercise, you will explore and implement a popular epidemiological model of infectuous disease outbreaks.</p>\n",
    "\n",
    "<p>In particular, we will look at the SEIR model, which is an instance of the compartmental model family:</p>\n",
    "\n",
    "![SEIR](https://docs.idmod.org/projects/emod-hiv/en/latest/_images/SEIR-SEIRS.png)\n",
    "\n",
    "<p>Compartmental models partition a population into discrete subgroups. In the case of the SEIR model, the groups are:</p>\n",
    "<br>\n",
    "1. S - Susceptible: People who can become infected<br>\n",
    "2. E - Exposed: People who have been exposed to the virus<br>\n",
    "3. I - Infected: People who have been infected by the virus<br>\n",
    "4. R - Recovered: People who have recovered from the virus <br>\n",
    "\n",
    "Needless to say, there are numerous extentions of this basic model, but it is useful for simulations and (even policy making!). The discrete-time SEIR model is given by the following set of difference equations:\n",
    "$$\\begin{align}\n",
    "S_t &= S_{t-1} -(\\beta S_{t-1} I_{t-1})/N \\\\\n",
    "E_t &= E_{t-1} + (\\beta S_{t-1} I_{t-1})/N - \\sigma E_{t-1} \\\\\n",
    "I_t &= I_{t-1} + \\sigma E_{t-1} - \\gamma I_{t-1} \\\\\n",
    "R_t &= R_{t-1} + \\gamma I_{t-1}\n",
    "\\end{align}$$\n",
    "\n",
    "which govern the interactions between the compartments. In the continuous case, the model would be specified by a set of ordinary differential equations (ODEs). The dynamics of the process model are controled by three parameters:\n",
    "\n",
    "1. $\\beta$ - the average contact rate in the population\n",
    "2. $\\sigma$ - the inverse of the incubation period (1 / days_incubation)\n",
    "3. $\\gamma$ - the inverse of the mean infectuous period (1 / days_infectuous)\n",
    "\n",
    "Thus, we can compute the basic reproduction number $R_0$ as\n",
    "$$ R_0 = \\frac{\\beta}{\\gamma}$$\n",
    "\n",
    "The goal of this exercise is to implement the discrete-time SEIR model as a function which takes an input the initial conditions and a vector of parameters and returns the four timeseries of S, E, I, and R people.\n",
    "Once your code works, create a separate module and commit it to a repository."
   ]
  },
  {
   "cell_type": "code",
   "execution_count": 16,
   "id": "95a74135",
   "metadata": {},
   "outputs": [],
   "source": [
    "#%pip install matplotlib\n",
    "import matplotlib.pyplot as plt\n",
    "\n",
    "def plot_results(infected):\n",
    "    \"\"\"Plots the time series of infected cases.\"\"\"\n",
    "    \n",
    "    fig, ax = plt.subplots(1, 1, figsize=(10, 6))\n",
    "    ax.plot(infected, color='#AA0000', linestyle='dashed', marker='o')\n",
    "    ax.set_xlabel('Day', fontsize=16)\n",
    "    ax.set_ylabel('Number of Infected Cases', fontsize=16)\n",
    "    ax.set_title('Simulated Oubreak', fontsize=20)\n",
    "    ax.grid(alpha=0.2)\n",
    "    return fig"
   ]
  },
  {
   "cell_type": "code",
   "execution_count": 19,
   "id": "a41eeb33",
   "metadata": {},
   "outputs": [],
   "source": [
    "def simulate_seir(parameters, init_conditions, days=51):\n",
    "    beta, sigma, gamma = parameters\n",
    "    s_0, e_0, i_0, r_0 = init_conditions\n",
    "    N = s_0 + e_0 + i_0 + r_0\n",
    "    S, E, I, R = [s_0], [e_0], [i_0], [r_0]\n",
    "    \n",
    "    for day in range(days):\n",
    "        ''' \n",
    "        S_t &= S_{t-1} -(\\beta S_{t-1} I_{t-1})/N \\\\\n",
    "        E_t &= E_{t-1} + (\\beta S_{t-1} I_{t-1})/N - \\sigma E_{t-1} \\\\\n",
    "        I_t &= I_{t-1} + \\sigma E_{t-1} - \\gamma I_{t-1} \\\\\n",
    "        R_t &= R_{t-1} + \\gamma I_{t-1}\n",
    "        '''\n",
    "        S_next = S[day] - (beta * S[day] * I[day])/N\n",
    "        E_next = E[day] + (beta * S[day] * I[day])/N - (sigma * E[day])\n",
    "        I_next = I[day] + (sigma * E[day]) - (gamma * I[day])\n",
    "        R_next = R[day] + (gamma * I[day])\n",
    "        \n",
    "        # Quick Logic Check\n",
    "        #assert(S_next + E_next + I_next + R_next == N)\n",
    "\n",
    "        S.append(S_next)\n",
    "        E.append(E_next)\n",
    "        I.append(I_next)\n",
    "        R.append(R_next)\n",
    "\n",
    "    return S, E, I, R"
   ]
  },
  {
   "cell_type": "code",
   "execution_count": 21,
   "id": "769ad87f",
   "metadata": {},
   "outputs": [
    {
     "data": {
      "image/png": "[encoded data removed]",
      "text/plain": [
       "<Figure size 1000x600 with 1 Axes>"
      ]
     },
     "metadata": {},
     "output_type": "display_data"
    }
   ],
   "source": [
    "# beta, sigma, gamma\n",
    "parameters = (3, 0.1, 0.5)\n",
    "\n",
    "# S0, E0, I0, R0\n",
    "inits = (9999., 1., 0., 0.)\n",
    "\n",
    "### Your code here\n",
    "sim = simulate_seir(parameters, inits, 100)\n",
    "\n",
    "### Expected result\n",
    "f = plot_results(sim[2])"
   ]
  },
  {
   "cell_type": "code",
   "execution_count": null,
   "id": "9ee32199",
   "metadata": {},
   "outputs": [],
   "source": []
  }
 ],
 "metadata": {
  "kernelspec": {
   "display_name": "Python 3 (ipykernel)",
   "language": "python",
   "name": "python3"
  },
  "language_info": {
   "codemirror_mode": {
    "name": "ipython",
    "version": 3
   },
   "file_extension": ".py",
   "mimetype": "text/x-python",
   "name": "python",
   "nbconvert_exporter": "python",
   "pygments_lexer": "ipython3",
   "version": "3.11.5"
  },
  "toc": {
   "base_numbering": 1,
   "nav_menu": {},
   "number_sections": true,
   "sideBar": true,
   "skip_h1_title": false,
   "title_cell": "Table of Contents",
   "title_sidebar": "Contents",
   "toc_cell": false,
   "toc_position": {
    "height": "calc(100% - 180px)",
    "left": "10px",
    "top": "150px",
    "width": "165px"
   },
   "toc_section_display": true,
   "toc_window_display": true
  }
 },
 "nbformat": 4,
 "nbformat_minor": 5
}
