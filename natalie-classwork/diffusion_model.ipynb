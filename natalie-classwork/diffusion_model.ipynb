{
 "cells": [
  {
   "cell_type": "code",
   "execution_count": 78,
   "metadata": {},
   "outputs": [],
   "source": [
    "import numpy as np\n"
   ]
  },
  {
   "cell_type": "code",
   "execution_count": 79,
   "metadata": {},
   "outputs": [],
   "source": [
    "def simulate_diffusion(v, a, beta, tau, dt=1e-3, scale=1.0, max_time=10.):\n",
    "    y = beta * a\n",
    "    num_secs = tau\n",
    "    const = scale * np.sqrt(dt)\n",
    "    while (y <= a and y >= 0 and num_secs < max_time):\n",
    "        # z = np.random.randn() -> val between 0 and 1\n",
    "        y += v*dt + const*np.random.randn() \n",
    "        num_secs += dt\n",
    "\n",
    "    if y >= a: c = 1\n",
    "    else: c = 0\n",
    "\n",
    "    return num_secs, c"
   ]
  },
  {
   "cell_type": "code",
   "execution_count": 172,
   "metadata": {},
   "outputs": [],
   "source": [
    "# Valuable Ranges of the Params:\n",
    "# v ∈ { }, a ∈ { }, beta ∈ { }, tau ∈ { }, dt ∈ { }, scale ∈ { }\n",
    "params = {'v': 0.5, \n",
    "          'a': 3.0, \n",
    "          'beta':0.5, \n",
    "          'tau':0.7}"
   ]
  },
  {
   "cell_type": "code",
   "execution_count": 178,
   "metadata": {},
   "outputs": [
    {
     "name": "stdout",
     "output_type": "stream",
     "text": [
      "Wall time: 8.47 ms\n"
     ]
    },
    {
     "data": {
      "text/plain": [
       "(4.529999999999847, 1)"
      ]
     },
     "execution_count": 178,
     "metadata": {},
     "output_type": "execute_result"
    }
   ],
   "source": [
    "%%time\n",
    "simulate_diffusion(**params)\n"
   ]
  }
 ],
 "metadata": {
  "language_info": {
   "name": "python"
  }
 },
 "nbformat": 4,
 "nbformat_minor": 2
}
