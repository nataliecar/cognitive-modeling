{
 "cells": [
  {
   "cell_type": "markdown",
   "metadata": {},
   "source": [
    "ChatGPT 3.5 Result:"
   ]
  },
  {
   "cell_type": "code",
   "execution_count": 97,
   "metadata": {},
   "outputs": [],
   "source": [
    "import numpy as np"
   ]
  },
  {
   "cell_type": "code",
   "execution_count": 99,
   "metadata": {},
   "outputs": [
    {
     "name": "stdout",
     "output_type": "stream",
     "text": [
      "Multivariate Normal Density: 0.01465880871237198\n"
     ]
    }
   ],
   "source": [
    "def multivariate_normal_density(x, mu, Sigma):\n",
    "    \"\"\"\n",
    "    Calculate the density of a D-dimensional vector x\n",
    "    given a D-dimensional mean vector mu and a D×D-dimensional covariance matrix Sigma.\n",
    "\n",
    "    Parameters:\n",
    "    - x: D-dimensional vector\n",
    "    - mu: D-dimensional mean vector\n",
    "    - Sigma: D×D-dimensional covariance matrix\n",
    "\n",
    "    Returns:\n",
    "    - density: Density of the vector x\n",
    "    \"\"\"\n",
    "    D = len(x)\n",
    "\n",
    "    # Calculate the normalization constant\n",
    "    normalization = 1 / ((2 * np.pi) ** (D / 2) * np.sqrt(np.linalg.det(Sigma)))\n",
    "\n",
    "    # Calculate the exponent term\n",
    "    exponent_term = -0.5 * np.dot(np.dot((x - mu).T, np.linalg.inv(Sigma)), (x - mu))\n",
    "\n",
    "    # Calculate the density\n",
    "    density = normalization * np.exp(exponent_term)\n",
    "\n",
    "    return density\n",
    "\n",
    "# Example usage:\n",
    "x_example = np.array([1, 2, 3])\n",
    "mu_example = np.array([2, 3, 4])\n",
    "Sigma_example = np.array([[1, 0.5, 0.3],\n",
    "                          [0.5, 2, 0.2],\n",
    "                          [0.3, 0.2, 3]])\n",
    "\n",
    "result = multivariate_normal_density(x_example, mu_example, Sigma_example)\n",
    "print(\"Multivariate Normal Density:\", result)"
   ]
  },
  {
   "cell_type": "markdown",
   "metadata": {},
   "source": [
    "Compare ChatGPT 3.5 with SciPy:"
   ]
  },
  {
   "cell_type": "code",
   "execution_count": 90,
   "metadata": {},
   "outputs": [],
   "source": [
    "from scipy.stats import multivariate_normal"
   ]
  },
  {
   "cell_type": "code",
   "execution_count": 100,
   "metadata": {},
   "outputs": [
    {
     "data": {
      "text/plain": [
       "0.014658808712371983"
      ]
     },
     "execution_count": 100,
     "metadata": {},
     "output_type": "execute_result"
    }
   ],
   "source": [
    "#compare with chatgpt's example\n",
    "multivariate_normal.pdf(x_example, mu_example, Sigma_example)"
   ]
  },
  {
   "cell_type": "code",
   "execution_count": 101,
   "metadata": {},
   "outputs": [],
   "source": [
    "D = 10\n",
    "x = np.random.uniform(0, 1, D)\n",
    "means = np.random.uniform(0, 1, D)"
   ]
  },
  {
   "cell_type": "code",
   "execution_count": 102,
   "metadata": {},
   "outputs": [
    {
     "name": "stdout",
     "output_type": "stream",
     "text": [
      "ChatGPT: 8.354287235775173e-05\n",
      "SciPy: 8.354287235775185e-05\n",
      "Difference: 1.2197274440461925e-19\n"
     ]
    }
   ],
   "source": [
    "#spherical Gaussian\n",
    "cov = np.eye(D)\n",
    "density_gpt = multivariate_normal_density(x, means, cov)\n",
    "density_scipy = multivariate_normal.pdf(x, means, cov)\n",
    "print(\"ChatGPT:\", density_gpt)\n",
    "print(\"SciPy:\", density_scipy)\n",
    "print(\"Difference:\", abs(density_scipy-density_gpt))"
   ]
  },
  {
   "cell_type": "code",
   "execution_count": 103,
   "metadata": {},
   "outputs": [
    {
     "name": "stdout",
     "output_type": "stream",
     "text": [
      "ChatGPT: 0.014234626569053827\n",
      "SciPy: 0.014234626569053855\n",
      "Difference: 2.7755575615628914e-17\n"
     ]
    }
   ],
   "source": [
    "#diagonal Gaussian\n",
    "cov = np.diag(np.random.rand(D))\n",
    "density_gpt = multivariate_normal_density(x, means, cov)\n",
    "density_scipy = multivariate_normal.pdf(x, means, cov)\n",
    "print(\"ChatGPT:\", density_gpt)\n",
    "print(\"SciPy:\", density_scipy)\n",
    "print(\"Difference:\", abs(density_scipy-density_gpt))"
   ]
  },
  {
   "cell_type": "code",
   "execution_count": 104,
   "metadata": {},
   "outputs": [
    {
     "name": "stdout",
     "output_type": "stream",
     "text": [
      "ChatGPT: 0.0001413986999835026\n",
      "SciPy: 0.00014139869998349214\n",
      "Difference: 1.0462550964485118e-17\n"
     ]
    }
   ],
   "source": [
    "#full-covariance Gaussian\n",
    "mat = np.random.rand(D,D)\n",
    "cov = np.dot(mat, mat.T)\n",
    "density_gpt = multivariate_normal_density(x, means, cov)\n",
    "density_scipy = multivariate_normal.pdf(x, means, cov)\n",
    "print(\"ChatGPT:\", density_gpt)\n",
    "print(\"SciPy:\", density_scipy)\n",
    "print(\"Difference:\", abs(density_scipy-density_gpt))"
   ]
  }
 ],
 "metadata": {
  "kernelspec": {
   "display_name": "cognitive",
   "language": "python",
   "name": "python3"
  },
  "language_info": {
   "codemirror_mode": {
    "name": "ipython",
    "version": 3
   },
   "file_extension": ".py",
   "mimetype": "text/x-python",
   "name": "python",
   "nbconvert_exporter": "python",
   "pygments_lexer": "ipython3",
   "version": "3.11.7"
  }
 },
 "nbformat": 4,
 "nbformat_minor": 2
}
