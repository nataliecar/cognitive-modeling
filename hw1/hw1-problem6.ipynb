{
 "cells": [
  {
   "cell_type": "code",
   "execution_count": 13,
   "metadata": {},
   "outputs": [],
   "source": [
    "import pandas as pd\n",
    "import numpy as np"
   ]
  },
  {
   "cell_type": "code",
   "execution_count": 21,
   "metadata": {},
   "outputs": [],
   "source": [
    "'''\n",
    "A new pharmaceutical drug test is being done to treat the BIG SCARY DISEASE!\n",
    "The drugs being considered are \n",
    "    Drug A & Drug B\n",
    "The drugs are being tested for how well they treat BIG SCARY DISEASE\n",
    "'''\n",
    "drugs = ('A', 'B')\n",
    "drug_probs = (0.78, 0.22)"
   ]
  },
  {
   "cell_type": "code",
   "execution_count": 33,
   "metadata": {},
   "outputs": [],
   "source": [
    "'''\n",
    "They also are interested in the mode of administration of the drugs and their\n",
    "effectiveness\n",
    "    Shot & Pill & Cream \n",
    "'''\n",
    "admin = ('cream', 'pill', 'shot')\n",
    "A_admin = (0.23, 0.36, 0.41)\n",
    "B_admin = (0.14, 0.57, 0.29)"
   ]
  },
  {
   "cell_type": "code",
   "execution_count": 25,
   "metadata": {},
   "outputs": [],
   "source": [
    "def draw_prior(drugs, drug_probs):\n",
    "    return np.random.choice(drugs, p=drug_probs)\n",
    "\n",
    "def draw_model(admin, drug_type, A_admin, B_admin):\n",
    "    if(drug_type == 'A'):\n",
    "        return np.random.choice(admin, p=A_admin)\n",
    "    return np.random.choice(admin, p=B_admin)\n",
    "\n",
    "def draw_joint(admin, drug_type, drug_probs, A_admin, B_admin):\n",
    "    d = draw_prior(drug_type, drug_probs)\n",
    "    a = draw_model(admin, d, A_admin, B_admin)\n",
    "    return d + '_' + a\n",
    "\n",
    "def simulator(*args, num_sims=10000):\n",
    "    return [draw_joint(*args) for _ in range(num_sims)]"
   ]
  },
  {
   "cell_type": "code",
   "execution_count": 44,
   "metadata": {},
   "outputs": [],
   "source": [
    "N = 100000\n",
    "sims = simulator(admin, drugs, drug_probs, A_admin, B_admin, num_sims=N)\n",
    "scenarios, counts = np.unique(sims, return_counts=True)"
   ]
  },
  {
   "cell_type": "code",
   "execution_count": 45,
   "metadata": {},
   "outputs": [
    {
     "name": "stdout",
     "output_type": "stream",
     "text": [
      "A_cream should occur with a probability of 0.18.\n",
      "A_pill should occur with a probability of 0.28.\n",
      "A_shot should occur with a probability of 0.32.\n",
      "B_cream should occur with a probability of 0.03.\n",
      "B_pill should occur with a probability of 0.13.\n",
      "B_shot should occur with a probability of 0.06.\n"
     ]
    }
   ],
   "source": [
    "# p(x, y) = p(x | Y = y) * p(y)\n",
    "# admin, drugs, drug_probs, A_admin, B_admin\n",
    "for d, d_prob in zip(drugs, drug_probs):\n",
    "    if(d == 'A'):\n",
    "        for a, a_prob in zip(admin, A_admin):\n",
    "            print(f'{d}_{a} should occur with a probability of {round(d_prob*a_prob, 2)}.')\n",
    "    else:\n",
    "        for b, b_prob in zip(admin, B_admin):\n",
    "            print(f'{d}_{b} should occur with a probability of {round(d_prob*b_prob, 2)}.')"
   ]
  },
  {
   "cell_type": "code",
   "execution_count": 46,
   "metadata": {},
   "outputs": [
    {
     "name": "stdout",
     "output_type": "stream",
     "text": [
      "A_cream occurred with a probability of 0.18.\n",
      "A_pill occurred with a probability of 0.28.\n",
      "A_shot occurred with a probability of 0.32.\n",
      "B_cream occurred with a probability of 0.03.\n",
      "B_pill occurred with a probability of 0.13.\n",
      "B_shot occurred with a probability of 0.06.\n"
     ]
    }
   ],
   "source": [
    "for d, a in zip(scenarios, counts):\n",
    "    print(f'{d} occurred with a probability of {round(a / N, 2)}.')"
   ]
  },
  {
   "cell_type": "code",
   "execution_count": null,
   "metadata": {},
   "outputs": [],
   "source": [
    "\"\"\" N should be around 100,000 for the approximate probabilities to become\n",
    "almost indistinguishable from the analytic ones\"\"\""
   ]
  }
 ],
 "metadata": {
  "kernelspec": {
   "display_name": "Python 3",
   "language": "python",
   "name": "python3"
  },
  "language_info": {
   "codemirror_mode": {
    "name": "ipython",
    "version": 3
   },
   "file_extension": ".py",
   "mimetype": "text/x-python",
   "name": "python",
   "nbconvert_exporter": "python",
   "pygments_lexer": "ipython3",
   "version": "3.8.5"
  }
 },
 "nbformat": 4,
 "nbformat_minor": 2
}
