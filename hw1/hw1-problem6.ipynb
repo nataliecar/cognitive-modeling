{
 "cells": [
  {
   "cell_type": "code",
   "execution_count": 94,
   "metadata": {},
   "outputs": [],
   "source": [
    "import pandas as pd\n",
    "import numpy as np"
   ]
  },
  {
   "cell_type": "code",
   "execution_count": 95,
   "metadata": {},
   "outputs": [],
   "source": [
    "'''\n",
    "A new pharmaceutical drug test is being done to treat the BIG SCARY DISEASE!\n",
    "The drugs being considered are \n",
    "    Drug A & Drug B\n",
    "The drugs are being tested for how well they treat BIG SCARY DISEASE\n",
    "'''\n",
    "drugs = ('A', 'B')\n",
    "drug_probs = (0.78, 0.22)"
   ]
  },
  {
   "cell_type": "code",
   "execution_count": 96,
   "metadata": {},
   "outputs": [],
   "source": [
    "'''\n",
    "They also are interested in the mode of administration of the drugs and their\n",
    "effectiveness\n",
    "    Shot & Pill & Cream \n",
    "'''\n",
    "admin = ('cream', 'pill', 'shot')\n",
    "A_admin = (0.23, 0.36, 0.41)\n",
    "B_admin = (0.14, 0.57, 0.29)"
   ]
  },
  {
   "cell_type": "code",
   "execution_count": 97,
   "metadata": {},
   "outputs": [],
   "source": [
    "def draw_joint_vectorized(drugs, drug_probs, A_admin, B_admin, num_sims):\n",
    "    drug_selection = np.random.choice(drugs, size=num_sims, p=drug_probs)\n",
    "    A_mask = (drug_selection == 'A')\n",
    "    \n",
    "    A_admin_selection = np.random.choice(admin, size=num_sims, p=A_admin)\n",
    "    B_admin_selection = np.random.choice(admin, size=num_sims, p=B_admin)\n",
    "    \n",
    "    result = np.where(A_mask, np.core.defchararray.add('A_', A_admin_selection.astype(object)),\n",
    "                      np.core.defchararray.add('B_', B_admin_selection.astype(object)))\n",
    "    \n",
    "    return result"
   ]
  },
  {
   "cell_type": "code",
   "execution_count": 98,
   "metadata": {},
   "outputs": [],
   "source": [
    "N = 100000\n",
    "sims = draw_joint_vectorized(drugs, drug_probs, A_admin, B_admin, N)\n",
    "scenarios, counts = np.unique(sims, return_counts=True)"
   ]
  },
  {
   "cell_type": "code",
   "execution_count": 99,
   "metadata": {},
   "outputs": [
    {
     "name": "stdout",
     "output_type": "stream",
     "text": [
      "A_cream should occur with a probability of 0.18.\n",
      "A_pill should occur with a probability of 0.28.\n",
      "A_shot should occur with a probability of 0.32.\n",
      "B_cream should occur with a probability of 0.03.\n",
      "B_pill should occur with a probability of 0.13.\n",
      "B_shot should occur with a probability of 0.06.\n"
     ]
    }
   ],
   "source": [
    "# p(x, y) = p(x | Y = y) * p(y)\n",
    "# admin, drugs, drug_probs, A_admin, B_admin\n",
    "for d, d_prob in zip(drugs, drug_probs):\n",
    "    if(d == 'A'):\n",
    "        for a, a_prob in zip(admin, A_admin):\n",
    "            print(f'{d}_{a} should occur with a probability of {round(d_prob*a_prob, 2)}.')\n",
    "    else:\n",
    "        for b, b_prob in zip(admin, B_admin):\n",
    "            print(f'{d}_{b} should occur with a probability of {round(d_prob*b_prob, 2)}.')"
   ]
  },
  {
   "cell_type": "code",
   "execution_count": 100,
   "metadata": {},
   "outputs": [
    {
     "name": "stdout",
     "output_type": "stream",
     "text": [
      "A_cream occurred with a probability of 0.18.\n",
      "A_pill occurred with a probability of 0.28.\n",
      "A_shot occurred with a probability of 0.32.\n",
      "B_cream occurred with a probability of 0.03.\n",
      "B_pill occurred with a probability of 0.13.\n",
      "B_shot occurred with a probability of 0.06.\n"
     ]
    }
   ],
   "source": [
    "for d, a in zip(scenarios, counts):\n",
    "    print(f'{d} occurred with a probability of {round(a / N, 2)}.')"
   ]
  },
  {
   "cell_type": "code",
   "execution_count": 101,
   "metadata": {},
   "outputs": [
    {
     "data": {
      "text/plain": [
       "' N should be around 100,000 for the approximate probabilities to become\\nalmost indistinguishable from the analytic ones'"
      ]
     },
     "execution_count": 101,
     "metadata": {},
     "output_type": "execute_result"
    }
   ],
   "source": [
    "\"\"\" N should be around 100,000 for the approximate probabilities to become\n",
    "almost indistinguishable from the analytic ones\"\"\""
   ]
  }
 ],
 "metadata": {
  "kernelspec": {
   "display_name": "Python 3",
   "language": "python",
   "name": "python3"
  },
  "language_info": {
   "codemirror_mode": {
    "name": "ipython",
    "version": 3
   },
   "file_extension": ".py",
   "mimetype": "text/x-python",
   "name": "python",
   "nbconvert_exporter": "python",
   "pygments_lexer": "ipython3",
   "version": "3.8.5"
  }
 },
 "nbformat": 4,
 "nbformat_minor": 2
}
